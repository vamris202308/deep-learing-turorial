{
 "cells": [
  {
   "cell_type": "markdown",
   "id": "31f06448",
   "metadata": {},
   "source": [
    " # 1python简介"
   ]
  },
  {
   "cell_type": "markdown",
   "id": "69b141a0",
   "metadata": {},
   "source": [
    "python都能干啥？\n",
    "\n",
    "\n",
    "c++头文件、源文件，java比c++好用很多，python比java好用，python是数据一哥"
   ]
  },
  {
   "cell_type": "code",
   "execution_count": 13,
   "id": "45d987b9",
   "metadata": {},
   "outputs": [
    {
     "name": "stdout",
     "output_type": "stream",
     "text": [
      "hello world!\n"
     ]
    }
   ],
   "source": [
    "###初识python\n",
    "\n",
    "print('hello world!')   #print 内容显示控制台上，若不能自动出现括号，先输入右侧），再输入中间值，后输入（，否则容易报错"
   ]
  },
  {
   "cell_type": "markdown",
   "id": "fff333f0",
   "metadata": {},
   "source": [
    "###控制台输入和输出\n",
    "\n",
    "   print控制台输出，print（’你好,'*5) 重复五遍你好\n",
    "   \n",
    "   input()控制台输入，使用变量结收input（）方法输入的内容"
   ]
  },
  {
   "cell_type": "code",
   "execution_count": 50,
   "id": "f868e8bc",
   "metadata": {},
   "outputs": [
    {
     "name": "stdout",
     "output_type": "stream",
     "text": [
      "请输入名字：\n",
      "毛泽东\n",
      "毛泽东\n"
     ]
    }
   ],
   "source": [
    "print('请输入名字：')\n",
    "name=input()\n",
    "print(name)"
   ]
  },
  {
   "cell_type": "code",
   "execution_count": 53,
   "id": "8f2f21e6",
   "metadata": {},
   "outputs": [
    {
     "name": "stdout",
     "output_type": "stream",
     "text": [
      "请输入名字毛泽东\n",
      "你好，毛泽东\n"
     ]
    }
   ],
   "source": [
    "#效果等同于，用户输入前，先提示用户\n",
    "name=input('请输入名字')      #表示数据类型是字符串\n",
    "print('你好，'+name)          #你好是字符串，name接收也是字符串，拼接成新的语句，字符串只能与字符串拼接，你好不能与5拼接"
   ]
  },
  {
   "cell_type": "code",
   "execution_count": 54,
   "id": "0464ee5d",
   "metadata": {},
   "outputs": [
    {
     "name": "stdout",
     "output_type": "stream",
     "text": [
      "请输入名字：毛泽东\n",
      "你好啊，毛泽东你好啊，毛泽东你好啊，毛泽东你好啊，毛泽东你好啊，毛泽东\n"
     ]
    }
   ],
   "source": [
    "#如何实现5遍你好+名字\n",
    "name=input('请输入名字：')\n",
    "name='你好啊，'+name\n",
    "name=name*5\n",
    "print(name)"
   ]
  },
  {
   "cell_type": "markdown",
   "id": "4ea154ae",
   "metadata": {},
   "source": [
    "###python之歌\n",
    "\n",
    "系统自带的，输入代码如下："
   ]
  },
  {
   "cell_type": "code",
   "execution_count": 40,
   "id": "5483474b",
   "metadata": {},
   "outputs": [],
   "source": [
    "import this"
   ]
  },
  {
   "cell_type": "markdown",
   "id": "15b17d55",
   "metadata": {},
   "source": [
    "###文档和注释\n",
    "   \n",
    "     # 表示单行注释，’’’表示多行注释\n",
    "     \n",
    "     注释要前后匹配，容易产生歧义可以用等效代码代替"
   ]
  },
  {
   "cell_type": "markdown",
   "id": "0fd3a085",
   "metadata": {},
   "source": [
    "# 2python数值计算"
   ]
  },
  {
   "cell_type": "markdown",
   "id": "04ac10e9",
   "metadata": {},
   "source": [
    "计算机程序从最基本的计算开始"
   ]
  },
  {
   "cell_type": "code",
   "execution_count": 19,
   "id": "cf017bd8",
   "metadata": {},
   "outputs": [
    {
     "data": {
      "text/plain": [
       "3"
      ]
     },
     "execution_count": 19,
     "metadata": {},
     "output_type": "execute_result"
    }
   ],
   "source": [
    "1+2      #不输入print，显示的是输出值，运行后控制台上不会显示"
   ]
  },
  {
   "cell_type": "code",
   "execution_count": 20,
   "id": "2b834418",
   "metadata": {},
   "outputs": [
    {
     "data": {
      "text/plain": [
       "3.3333333333333335"
      ]
     },
     "execution_count": 20,
     "metadata": {},
     "output_type": "execute_result"
    }
   ],
   "source": [
    "10/3    #除法运算   除数运算结果一定是浮点数"
   ]
  },
  {
   "cell_type": "code",
   "execution_count": 21,
   "id": "9e47ae96",
   "metadata": {},
   "outputs": [
    {
     "data": {
      "text/plain": [
       "1"
      ]
     },
     "execution_count": 21,
     "metadata": {},
     "output_type": "execute_result"
    }
   ],
   "source": [
    "10%3   #取余计算"
   ]
  },
  {
   "cell_type": "code",
   "execution_count": 22,
   "id": "0540be99",
   "metadata": {},
   "outputs": [
    {
     "data": {
      "text/plain": [
       "8"
      ]
     },
     "execution_count": 22,
     "metadata": {},
     "output_type": "execute_result"
    }
   ],
   "source": [
    "2**3  #指数运算"
   ]
  },
  {
   "cell_type": "markdown",
   "id": "b0a7b1db",
   "metadata": {},
   "source": [
    "###运算符号\n",
    "    \n",
    "    简单算术运算符号：+ - * / （）  \n",
    "\n",
    "    运算结果类型不一定是整数，操作数出现浮点数结果一定是浮点数，除法运算结果一定是浮点数，可混合运算注意优先级\n",
    "\n",
    "    特殊算术运算符号：** 指数运算     %取余运算     //整除运算，自动舍去小数点\n",
    "\n",
    "    运算优先级\n",
    "     **\n",
    "\n",
    "    *、/、%、//\n",
    "\n",
    "    + -"
   ]
  },
  {
   "cell_type": "code",
   "execution_count": 45,
   "id": "2c7c6914",
   "metadata": {},
   "outputs": [
    {
     "data": {
      "text/plain": [
       "1.0"
      ]
     },
     "execution_count": 45,
     "metadata": {},
     "output_type": "execute_result"
    }
   ],
   "source": [
    "20.5%2**3//4"
   ]
  },
  {
   "cell_type": "markdown",
   "id": "c3b2b70b",
   "metadata": {},
   "source": [
    "###变量和赋值\n",
    "\n",
    "    变量用以存储数据，变量只能包含字母、数字、下划线，变量名区分大小写，Car与car意义不同\n",
    "    如apple@ ×，@是特殊符号\n",
    "    \n",
    "    如car price是错误的，中间存在空格，可以用car_price代替\n",
    "    \n",
    "    =是赋值意思，不同于数学符号=，只能把数据赋给变量，不能把变量赋值给数据\n",
    "    \n",
    "    两次对同一变量赋值，如a=1，a=2，print（a）显示结果为2\n",
    "    \n",
    "    python可在同一行中对多个变量进行赋值，如a，b，c=1，2，3\n",
    "    \n",
    "    print（a+b+c）"
   ]
  },
  {
   "cell_type": "code",
   "execution_count": 36,
   "id": "dd0d33b4",
   "metadata": {},
   "outputs": [
    {
     "name": "stdout",
     "output_type": "stream",
     "text": [
      "3\n"
     ]
    }
   ],
   "source": [
    "tang=3\n",
    "tang\n",
    "print(tang)   #out是输出结果，不显示控制台，若想显示控制台，必须加print语句"
   ]
  },
  {
   "cell_type": "code",
   "execution_count": 47,
   "id": "f7483480",
   "metadata": {},
   "outputs": [
    {
     "name": "stdout",
     "output_type": "stream",
     "text": [
      "2\n"
     ]
    }
   ],
   "source": [
    "result=1;\n",
    "print(result*2)"
   ]
  },
  {
   "cell_type": "markdown",
   "id": "2f551347",
   "metadata": {},
   "source": [
    "###常用数据类型（eight）\n",
    "\n",
    "c++或java有int、float数据类型，需要指明数据类型，而python会自动识别数据类型\n",
    "\n",
    "   单个数据：\n",
    "\n",
    "      int--整数，不带小数点的数，如4，0\n",
    "\n",
    "      float--浮点数，带小数点的数，如4.0，3.14。同时，浮点数和小数还是有本质区别的\n",
    "\n",
    "      string--字符串，如'你好'、’100'、’hello’。\n",
    "\n",
    "      bool--布尔值，逻辑运算，ture或false\n",
    "\n",
    "   多个数据：\n",
    "\n",
    "       list--列表，【a b c】，元素可重复，常用于坐标值、时间点、日期点\n",
    "\n",
    "       dictionary--字典，{'小明’：'66分’}表示，左侧为key，右侧为value\n",
    "\n",
    "       tuple--元组，（），与列表区别在于元素不可增修改，常用于函数\n",
    "\n",
    "       set--集合，不能包含重复元素\n",
    "       \n",
    "  数据类型转换\n",
    "       int（）可以把变量转换为整数类型，str可以把变量转换为字符串类型"
   ]
  },
  {
   "cell_type": "code",
   "execution_count": 46,
   "id": "a180811b",
   "metadata": {},
   "outputs": [
    {
     "data": {
      "text/plain": [
       "int"
      ]
     },
     "execution_count": 46,
     "metadata": {},
     "output_type": "execute_result"
    }
   ],
   "source": [
    "type(tang)  #打印或查看数据类型，若要显示控制台结果 print（type（tang））"
   ]
  },
  {
   "cell_type": "code",
   "execution_count": 41,
   "id": "5b54c98f",
   "metadata": {},
   "outputs": [
    {
     "name": "stdout",
     "output_type": "stream",
     "text": [
      "2.0 2\n"
     ]
    }
   ],
   "source": [
    "a=1+1.0;\n",
    "b=1+1\n",
    "print(a,b)    #二者结果不同，a是浮点数，b是整数"
   ]
  },
  {
   "cell_type": "code",
   "execution_count": 43,
   "id": "cb0c2149",
   "metadata": {},
   "outputs": [
    {
     "name": "stdout",
     "output_type": "stream",
     "text": [
      "5.551115123125783e-17\n"
     ]
    }
   ],
   "source": [
    "print(0.1+0.2-0.3)"
   ]
  },
  {
   "cell_type": "markdown",
   "id": "1d052b09",
   "metadata": {},
   "source": [
    "结果不是0，e表示10的n次方，浮点数与小数还是有本质去别的，肉眼看到的是0.1，实际上计算机判定为0.1000005之类的"
   ]
  },
  {
   "cell_type": "code",
   "execution_count": 59,
   "id": "12a5c10b",
   "metadata": {},
   "outputs": [
    {
     "name": "stdout",
     "output_type": "stream",
     "text": [
      "请输入你的出生年份：2001\n",
      "你今年已经22岁啦！\n"
     ]
    }
   ],
   "source": [
    "birth=input('请输入你的出生年份：')\n",
    "age=2023-int(birth)\n",
    "print('你今年已经'+str(age)+'岁啦！')       #'age'输出结果为字符串age，str（age）是输出变量，再转换为字符串拼接"
   ]
  },
  {
   "cell_type": "markdown",
   "id": "6d83364d",
   "metadata": {},
   "source": [
    "###关系运算符\n",
    "         \n",
    "         关系运算结果是布尔值\n",
    "         \n",
    "         > 大于\n",
    "         \n",
    "         ＜小于\n",
    "         \n",
    "         ＞=大于等于\n",
    "         \n",
    "         ＜=小于等于\n",
    "         \n",
    "         = =相等\n",
    "         \n",
    "         i=不相等\n",
    "         \n",
    "         数字可以比较，数字和大小写字母也是可以比较的，用ASCII码比较， 小写字母＞大写字母＞数字字符串\n",
    "         \n",
    "               数字与数字字符串不相等，即2不等于'2'\n",
    "               \n",
    " ###关系逻辑运算符（布尔运算符）\n",
    "           \n",
    "          and且                or或              not非\n",
    "          \n",
    "          且：A和B同时为True，       结果为true\n",
    "             A true和B false，       结果为false\n",
    "             Afalse和Bfalse，       结果为false\n",
    "          或：A和B同时为True，       结果为true\n",
    "             A true和B false，      结果为true\n",
    "             A false和B false，     结果为false\n",
    "          not：not A true          结果为false\n",
    "             not A false          结果为true"
   ]
  },
  {
   "cell_type": "code",
   "execution_count": 85,
   "id": "9d2cb881",
   "metadata": {},
   "outputs": [
    {
     "name": "stdout",
     "output_type": "stream",
     "text": [
      "True\n"
     ]
    }
   ],
   "source": [
    "a=11\n",
    "result=a>6\n",
    "print(result)"
   ]
  },
  {
   "cell_type": "code",
   "execution_count": 86,
   "id": "d721f9fb",
   "metadata": {},
   "outputs": [
    {
     "name": "stdout",
     "output_type": "stream",
     "text": [
      "False\n"
     ]
    }
   ],
   "source": [
    "print(2=='2')"
   ]
  },
  {
   "cell_type": "code",
   "execution_count": 89,
   "id": "b91718c3",
   "metadata": {},
   "outputs": [
    {
     "name": "stdout",
     "output_type": "stream",
     "text": [
      "False\n"
     ]
    }
   ],
   "source": [
    "print('Apple'>'car')               #其实是A与C比较"
   ]
  },
  {
   "cell_type": "code",
   "execution_count": 90,
   "id": "65967b75",
   "metadata": {},
   "outputs": [
    {
     "name": "stdout",
     "output_type": "stream",
     "text": [
      "False\n"
     ]
    }
   ],
   "source": [
    "print('apple'<'ape')              #其实是app与ape比较"
   ]
  },
  {
   "cell_type": "code",
   "execution_count": 88,
   "id": "987bb3db",
   "metadata": {},
   "outputs": [
    {
     "name": "stdout",
     "output_type": "stream",
     "text": [
      "False\n"
     ]
    }
   ],
   "source": [
    "print(not 1<2)"
   ]
  },
  {
   "cell_type": "markdown",
   "id": "233dbcf6",
   "metadata": {},
   "source": [
    "###赋值机制\n",
    "       \n",
    "       id()              查看存储内存\n",
    "       \n",
    "       a=1000，b=a         二者内存相同\n",
    "      \n",
    "      a=1000，b=1000       二者值相同内存不同，因为值比较大\n",
    "      \n",
    "      a=1，b=1           二者值相同内存相同，因为值比较小，提高利用效率"
   ]
  },
  {
   "cell_type": "markdown",
   "id": "d2c65196",
   "metadata": {},
   "source": [
    "# 3字符串"
   ]
  },
  {
   "cell_type": "markdown",
   "id": "a1d30707",
   "metadata": {},
   "source": [
    "###字符串获取单个字符，字符串下标\n",
    "     H e l l o\n",
    "    \n",
    "    0 1 2 3 4\n",
    "    \n",
    "    -5 -4 -3 -2 -1\n",
    "    \n",
    "    从前往后数下标是正数，从后往前数下标是负数\n",
    "    \n",
    "    [1:3]表示截取字符，从第一位到第三位前一个，即第一位和第二位\n",
    "    \n",
    "    [1:]表示截取后面全部\n",
    "    \n",
    "    [:3]表示截取第三位前面全部\n",
    "    \n",
    "    [1:4:2]表示截取第一位到第四位前一面，隔两位截取一个字符\n",
    "    \n",
    "    {：：-1]表示倒序截取全部"
   ]
  },
  {
   "cell_type": "code",
   "execution_count": 60,
   "id": "0f88838b",
   "metadata": {},
   "outputs": [
    {
     "name": "stdout",
     "output_type": "stream",
     "text": [
      "ell\n",
      "olleH\n"
     ]
    }
   ],
   "source": [
    "say='Hello'\n",
    "print(say[1:4])\n",
    "print(say[::-1])"
   ]
  },
  {
   "cell_type": "markdown",
   "id": "0d0fefdd",
   "metadata": {},
   "source": [
    "###字符串方法\n",
    "\n",
    "      len（）获取字符串长度                       len（my_string)\n",
    "       find()查找字符串位置                       my_string.find('H’）      可以用index索引变量来接收\n",
    "       count（）计算单个字符出现次数                 my_string.count('l')\n",
    "       in和not in（）是否包含字符串                 'Hello' in my_string   结果显示true\n",
    "       replace()字符串替换                        my_string.replace('o','w')用’w’替换'o’ 原字符串内容不变，得到生成字符串\n",
    "       split()分隔字符串                         my_string.split(',')\n",
    "       "
   ]
  },
  {
   "cell_type": "code",
   "execution_count": 63,
   "id": "4b1ca266",
   "metadata": {},
   "outputs": [
    {
     "name": "stdout",
     "output_type": "stream",
     "text": [
      "4\n",
      "6\n"
     ]
    }
   ],
   "source": [
    "length=len('你好'.encode('gbk'))          #gbk编码，每个汉字2个字符长度\n",
    "print(length)\n",
    "\n",
    "length2=len('你好'.encode('utf-8'))      #utf-8编码，每个汉字3个字符长度\n",
    "print(length2)"
   ]
  },
  {
   "cell_type": "code",
   "execution_count": 68,
   "id": "5ce0d58a",
   "metadata": {},
   "outputs": [
    {
     "name": "stdout",
     "output_type": "stream",
     "text": [
      "12345*\n"
     ]
    }
   ],
   "source": [
    "my_string='123456'\n",
    "my_string=my_string.replace('6','*')\n",
    "print(my_string)"
   ]
  },
  {
   "cell_type": "markdown",
   "id": "b382b85b",
   "metadata": {},
   "source": [
    "###转义字符\n",
    "         容易产生歧义，转换字符原本意义，如果要表示字符串原本意思前方加r（raw原始的）,用''或\\分隔起来\n",
    "         \n",
    "         \\n        换行\n",
    "         \n",
    "         \\t        制表符Tab     而r'c:\\test'表示存储位置c盘test文件夹   Tab四个字符串\n",
    "         \n",
    "         \\\\        分隔符\\     \n",
    "         \n",
    "         \"\"\"       创建多行字符串"
   ]
  },
  {
   "cell_type": "code",
   "execution_count": 72,
   "id": "0959ca8e",
   "metadata": {},
   "outputs": [
    {
     "name": "stdout",
     "output_type": "stream",
     "text": [
      "<html>\n",
      "<html>\n",
      "<head>\n",
      "<head>\n",
      "\n"
     ]
    }
   ],
   "source": [
    "html=\"<html>\\n<html>\\n<head>\\n<head>\\n\"\n",
    "print(html)"
   ]
  },
  {
   "cell_type": "code",
   "execution_count": 74,
   "id": "495d6b87",
   "metadata": {},
   "outputs": [
    {
     "name": "stdout",
     "output_type": "stream",
     "text": [
      "\n",
      "           <head>\n",
      "           <head>\n",
      "           <head>\n"
     ]
    }
   ],
   "source": [
    "html=\"\"\"\n",
    "           <head>\n",
    "           <head>\n",
    "           <head>\"\"\"\n",
    "print(html)"
   ]
  },
  {
   "cell_type": "markdown",
   "id": "0b9626dc",
   "metadata": {},
   "source": [
    "###格式化字符串、数字\n",
    "         \n",
    "         f-string       result=f'小明今年已经{age}岁啦！’\n",
    "         \n",
    "         format（）      result='小明今年已经{age}岁啦！'.format(name,age)  \n",
    "         \n",
    "         ():[[填充]对齐] [符号] [宽度] [.精度] [类型]    数字格式化\n",
    "                    \n",
    "                    其中，填充是指*、@\n",
    "                        对齐是指<是左对齐，>是右对齐^居中对齐\n",
    "                        符号是指+、-\n",
    "                        宽度是指长度\n",
    "                        精度是指精度        \n",
    "                        类型是数据类型       f是浮点数  \n",
    "                                        （）.%是百分号，八位       ().2%保留小数点后两位有效数字"
   ]
  },
  {
   "cell_type": "code",
   "execution_count": 76,
   "id": "e60369f3",
   "metadata": {},
   "outputs": [
    {
     "name": "stdout",
     "output_type": "stream",
     "text": [
      "圆周率@@@@@@@@@@@@@@@@@@@@@@+3.14@@@@@@@@@@@@@@@@@@@@@@@是一个无限不循环小数\n"
     ]
    }
   ],
   "source": [
    "pi=3.1415926\n",
    "result=f'圆周率{pi:@^+50.2f}是一个无限不循环小数'\n",
    "print(result)"
   ]
  },
  {
   "cell_type": "code",
   "execution_count": 78,
   "id": "08b05173",
   "metadata": {},
   "outputs": [
    {
     "name": "stdout",
     "output_type": "stream",
     "text": [
      "数字3.00是个浮点数\n"
     ]
    }
   ],
   "source": [
    "a=3.00\n",
    "result=f'数字{a:.2f}是个浮点数'\n",
    "print(result)"
   ]
  },
  {
   "cell_type": "code",
   "execution_count": 79,
   "id": "502a09c2",
   "metadata": {},
   "outputs": [
    {
     "name": "stdout",
     "output_type": "stream",
     "text": [
      "数字314.150000%是个百分数\n"
     ]
    }
   ],
   "source": [
    "b=3.1415\n",
    "result=f'数字{b:%}是个百分数'\n",
    "print(result)"
   ]
  },
  {
   "cell_type": "markdown",
   "id": "082eb27f",
   "metadata": {},
   "source": [
    "# 4列表"
   ]
  },
  {
   "cell_type": "markdown",
   "id": "a1f4bf35",
   "metadata": {},
   "source": [
    "###列表和下标\n",
    "   \n",
    "    列表是python中最基本的数据结构，不同的是列表的可存储多余数据，列表也叫数据容器，用[]表示。\n",
    "    \n",
    "    字符串是不可变类型，而list存储数据可变，可增修删改\n",
    "    \n",
    "    列表内可以包含任意多个数据元素\n",
    "    \n",
    "    列表中元素使用下标表示他们的顺序\n",
    "    \n",
    "###列表简单使用\n",
    "\n",
    "    in或not in              判断列表是否包含某个元素     \n",
    "    \n",
    "    len（）\n",
    "    my_list=list1+list2        加法拼接某列表\n",
    "    \n",
    "    my_list=list*3           重复某列表\n",
    "    \n",
    "    my_list.reserve()          反序某列表\n",
    "    \n",
    "    max(my_list)            获取某列表最大元素\n",
    "    \n",
    "    min（my_list）          获取列表最小元素\n",
    "    \n",
    "    my_list.sort（）        使用sort（）方法排序某个列表\n",
    "    \n",
    "###修改查找元素\n",
    "\n",
    "    对列表的主要操作是增删改查\n",
    "     \n",
    "    修改元素：    my_list[1]=7               #元素直接赋值进行修改\n",
    "              \n",
    "              my_list.index('l')           #查找指定内容首次出现的下标\n",
    "              \n",
    "              my_list.count(6)             #查找指定内容出现次数\n",
    "              \n",
    "              a【3】，a【4】=a【4】，a【3】    #互换内容\n",
    "              \n",
    "              s2=\"\".join(a)              #列表a添加到s2中，组成新字符串          \n",
    "              \n",
    "    增加元素：   my_list.append(5)            #列表末尾添加新元素5\n",
    "             \n",
    "             my_list.insert(1,'h')          #下标为1的位置插入新元素，原有元素依次后移\n",
    "             \n",
    "             my_list.extend([5,6,7])        #在列表末尾追加多个元素\n",
    "             \n",
    "    删除元素：  my_list.pop()               #弹出或移除最后一个元素\n",
    "            \n",
    "            my_list.pop(2)              #移除指定下标位置的元素\n",
    "            \n",
    "            my_list.remove('b')          #移除指定内容\n",
    "            \n",
    "            my_list.clear()            #清空内容\n"
   ]
  },
  {
   "cell_type": "code",
   "execution_count": 106,
   "id": "f6a9bd8e",
   "metadata": {},
   "outputs": [
    {
     "name": "stdout",
     "output_type": "stream",
     "text": [
      "a\n"
     ]
    }
   ],
   "source": [
    "s2=['1']\n",
    "s2=\"*\".join('a')\n",
    "print(s2)"
   ]
  },
  {
   "cell_type": "code",
   "execution_count": 109,
   "id": "684b4faf",
   "metadata": {},
   "outputs": [
    {
     "name": "stdout",
     "output_type": "stream",
     "text": [
      "['1', 2, [3]]\n"
     ]
    }
   ],
   "source": [
    "s1=['1',2,[3]]\n",
    "print(s1)"
   ]
  },
  {
   "cell_type": "markdown",
   "id": "dc1cdf76",
   "metadata": {},
   "source": [
    "###列表嵌套\n",
    "\n",
    "          my_list=[[1,2,3],['a','b','c'],[0.618,'hello',True]]     \n",
    "          \n",
    "          my_list[1][0]                 #第二个子列表的第一个元素，子列表从0开始排序"
   ]
  },
  {
   "cell_type": "markdown",
   "id": "876e9b62",
   "metadata": {},
   "source": [
    "###range快速生成列表\n",
    "            \n",
    "range的意思为“范围”、“一系列”，是一个内置函数，用于生成一系列连续的整数，创建一个整数列表，语   “range(start,stop[,step])”；其整数列表的范围从start值到stop值，但不包括stop.\n",
    "             \n",
    "           list(range(100))              #快速生成一个0-99的列表，不包含元素100\n",
    "           \n",
    "           list（range(x))              #快速生成一个0-（X-1）的列表\n",
    "           \n",
    "           list(range(4,12))            #元素从4开始，快速生成一个4-11的列表，不包含元素12              "
   ]
  },
  {
   "cell_type": "code",
   "execution_count": 115,
   "id": "7f02624e",
   "metadata": {},
   "outputs": [
    {
     "name": "stdout",
     "output_type": "stream",
     "text": [
      "L的类型是：<class 'range'>\n",
      "range(2, 10, 2)\n"
     ]
    }
   ],
   "source": [
    "l=range(2,10,2)\n",
    "print(f\"L的类型是：{type(l)}\\n{l}\")"
   ]
  },
  {
   "cell_type": "markdown",
   "id": "2d12aa22",
   "metadata": {},
   "source": [
    "# 5元组"
   ]
  },
  {
   "cell_type": "markdown",
   "id": "acb9a95b",
   "metadata": {},
   "source": [
    "###元组和下标\n",
    "\n",
    "          元素Tuple是一种有序容器，用（）表示，固定不变元素，不可以增修删改,只能查找。\n",
    "          \n",
    "###元组简单使用\n",
    "\n",
    "          in或not in               判断元组是否包含某个元素     \n",
    "    \n",
    "          len（）\n",
    "         \n",
    "          my_tuple=tuple1+tuple2        加法拼接某元组\n",
    "    \n",
    "          my_tuple=tuple*3           重复某元组\n",
    "    \n",
    "          my_tuple.reserve()          反序某元组\n",
    "    \n",
    "          max(my_tuple)            获取某元组最大元素\n",
    "    \n",
    "          min（my_tuple）           获取元组最小元素\n",
    "    \n",
    "          my_tuple.sort（）         使用sort（）方法排序某个元组\n",
    "          \n",
    "          a,b,c=(1,2,3)  print(f'a={a},b={b},c={c}')          将t中赋值a，b，c\n",
    "          \n",
    "          t[0],t[1]=(t[1],t[0])      将元组中元素赋值给列表\n",
    "\n",
    "###shape用法\n",
    "在Python中，shape是一个用于获取数组或矩阵的维度的属性或函数。它可以提供有关数组或矩阵大小和形状的有用信息。下面将详细介绍shape的用法。\n",
    "1. shape作为属性：\n",
    "在NumPy库中，shape是一个数组的属性，用于获取数组的形状。可以通过以下方式获取数组的形状：\n",
    "```python\n",
    "import numpy as np\n",
    "arr = np.array([[1, 2, 3], [4, 5, 6]])\n",
    "print(arr.shape)\n",
    "```\n",
    "输出：\n",
    "```\n",
    "(2,3)"
   ]
  },
  {
   "cell_type": "code",
   "execution_count": 114,
   "id": "434aaf7c",
   "metadata": {},
   "outputs": [
    {
     "name": "stdout",
     "output_type": "stream",
     "text": [
      "(3, 7, 3, 2) 3\n"
     ]
    }
   ],
   "source": [
    "a=(3,7,3,2)\n",
    "print(a,a.index(2))                       #元素2在元组中首次出现的下标位置，输出是数字，不是字符串"
   ]
  },
  {
   "cell_type": "markdown",
   "id": "75c22adc",
   "metadata": {},
   "source": []
  },
  {
   "cell_type": "code",
   "execution_count": 116,
   "id": "2ab44aaa",
   "metadata": {},
   "outputs": [
    {
     "name": "stdout",
     "output_type": "stream",
     "text": [
      "8\n",
      "12\n",
      "16\n",
      "20\n",
      "24\n"
     ]
    }
   ],
   "source": [
    "l=[2,4,6,8,10]\n",
    "for item in l:\n",
    "    item+=2                                 #item=item+2 即元素依次+2，可以简写为item+=2，同理item*=2\n",
    "    print(item*2)"
   ]
  },
  {
   "cell_type": "markdown",
   "id": "b27d9a51",
   "metadata": {},
   "source": [
    "# 6字典"
   ]
  },
  {
   "cell_type": "markdown",
   "id": "aa24e4af",
   "metadata": {},
   "source": [
    "字典结构是{}，类型是dict，key-value   {'key1':value1,'key2':value}  当然也可以指定为dict（【（’guo’，123），（'zi',456)]),但比较复杂\n",
    "\n",
    "无顺序性，必须键值索引\n",
    "\n",
    "value值是字符串、数字、列表都可以\n",
    "\n",
    "###字典的简单使用\n",
    "        \n",
    "        my_dict.items()\n",
    "        my_dict.keys()\n",
    "        my_dict.values()            分别打印字典的键值\n",
    "        \n",
    "        my_dict['key']=value         键赋值操作，更新操作\n",
    "         \n",
    "         my_dict['key']+=1           键值加减操作\n",
    "         \n",
    "         my_ditc pop('key')          弹出或移除某位键值\n",
    "         \n",
    "         del my_dict['key1']          删除指定键值\n",
    "         \n",
    "         my_dict1.update(my_dict2)      在保证字典1不变基础上增加字典2中字典1不存在的元素\n",
    "         \n",
    "         in或not in               判断字典是否包含某个元素\n",
    "###字典嵌套\n",
    "        \n",
    "        my_dict['key1']=my_dict1\n",
    "         \n",
    "         my_dict['key2']=my_dict2"
   ]
  },
  {
   "cell_type": "markdown",
   "id": "1c06185c",
   "metadata": {},
   "source": [
    "# 7集合"
   ]
  },
  {
   "cell_type": "markdown",
   "id": "42913468",
   "metadata": {},
   "source": [
    "写出内部不重复的元素,用{}表示，与字典区别是无键值对，主要还是用于列表无重复值\n",
    "            \n",
    "            set（）                保留唯一不重复的元素，（）内部放列表、元组、字典\n",
    "###集合的简单使用\n",
    "\n",
    "            a.union(b)或a|b           求a、b并集\n",
    "            \n",
    "            a.intersection(b)或a&b       求a、b交集\n",
    "            \n",
    "            a.difference(b)或a-b        求a、b差异，即输出a非交集部分\n",
    "            \n",
    "            b.issubset(a)或a<=b         判断b是否a子集,a也是a的子集，<是真子集\n",
    "            \n",
    "            a.add(4)                增加一个值\n",
    "            \n",
    "            a.update(4,5,6）           增加更新不存在的值\n",
    "            \n",
    "            a.remove(1)              移除某个特定元素，pop不能弹出，集合无顺序性\n",
    "            \n",
    "            a.pop()                 移除最后一个元素"
   ]
  },
  {
   "cell_type": "code",
   "execution_count": 192,
   "id": "54edd3de",
   "metadata": {},
   "outputs": [
    {
     "name": "stdout",
     "output_type": "stream",
     "text": [
      "{1, 2, 3}\n"
     ]
    }
   ],
   "source": [
    "guo=[1,2,3,2]                               #invalid decimal literal 指的是无效十进制，可能用的是中文输入产生歧义，换成英文重新输入\n",
    "G=set(guo)\n",
    "print(G)"
   ]
  },
  {
   "cell_type": "markdown",
   "id": "24a4f846",
   "metadata": {},
   "source": [
    "#  8python语句"
   ]
  },
  {
   "cell_type": "markdown",
   "id": "bf20c0eb",
   "metadata": {},
   "source": [
    "###if和else语句\n",
    "  \n",
    "        if是流程控制语句，用以判断，如果条件满足，则执行操作\n",
    "        \n",
    "        if格式要求：  if 条件A:\n",
    "                        \n",
    "                        执行\n",
    "                        \n",
    "                 else：\n",
    "                       \n",
    "                       执行\n",
    "                       \n",
    "###elif语句\n",
    "\n",
    "        else不能条件判断，只能处理if以外的条件，而elif可以处理其他条件\n",
    "        \n",
    "                if 条件A:\n",
    "                       执行\n",
    "                       \n",
    "                elif 条件B：\n",
    "                      \n",
    "                       执行\n",
    "                       \n",
    "                elif 条件C：\n",
    "                \n",
    "                      执行\n",
    "                      \n",
    "                else：\n",
    "                      执行\n",
    "             "
   ]
  },
  {
   "cell_type": "code",
   "execution_count": 117,
   "id": "d511dcbc",
   "metadata": {},
   "outputs": [
    {
     "name": "stdout",
     "output_type": "stream",
     "text": [
      "请输入一个数字37\n",
      "你输入的数字37是个奇数\n"
     ]
    }
   ],
   "source": [
    "#判断数字是奇数还是偶数\n",
    "number=input('请输入一个数字')\n",
    "number=int(number)\n",
    "if number%2==0:\n",
    "    print(f'你输入的数字{number}是个偶数')\n",
    "else:\n",
    "    print(f'你输入的数字{number}是个奇数')"
   ]
  },
  {
   "cell_type": "code",
   "execution_count": 118,
   "id": "0acf9399",
   "metadata": {},
   "outputs": [
    {
     "name": "stdout",
     "output_type": "stream",
     "text": [
      "请输入一个值：\n",
      "1.剪刀\n",
      "2.石头\n",
      "3.布2\n",
      "你获胜了\n"
     ]
    }
   ],
   "source": [
    "#实现一个石头、剪刀、布的游戏\n",
    "import random                                                                       #导入模组\n",
    "number=random.randint(1,3)                                                          #自动生成randint，至于生成什么数字，可以print显示出来              \n",
    "user_number=input('请输入一个值：\\n1.剪刀\\n2.石头\\n3.布')                           #不用全部输入，后面是用以解释的\n",
    "user_number=int(user_number)\n",
    "if number==user_number:\n",
    "    print(\"平局\")\n",
    "else:                                                                              #因为与if平级，所以用else，else可以随便用\n",
    "    if user_number>number and not(user_number==3 and number==1):                 #逻辑关系运算符\n",
    "        print('你获胜了')\n",
    "    elif user_number==1 and number==3:\n",
    "        print('你获胜了')\n",
    "    else:\n",
    "        print('你失败了')"
   ]
  },
  {
   "cell_type": "markdown",
   "id": "87bb6900",
   "metadata": {},
   "source": [
    "###for循环语句\n",
    "###遍历\n",
    "     \n",
    "      遍历：依次获取每个元素，依次元素显示控制台，而不是类型整体显示控制台，遍历的类型包括列表、元组、字符串和range（）\n",
    "     \n",
    "      for 元素新变量名 in 被遍历类型变量名：               #for语句，循环执行\n",
    "        \n",
    "        print(元素新变量名）\n",
    "        \n",
    "      循环100次，重复50次要停止，使用break和continue，\n",
    "    \n",
    "      使用break可终止整个循环\n",
    "    \n",
    "      循环中使用continue可终止本轮循环，继续下一轮循环，可以实现跳过0.\n",
    "      \n",
    "###列表推导式\n",
    "\n",
    "      [表达式 for 变量 in 列表 if 筛选条件]\n",
    "\n",
    "###循环嵌套\n",
    "      \n",
    "      小循环循环完毕后跳出，再执行大循环,如坐标点排列组合"
   ]
  },
  {
   "cell_type": "code",
   "execution_count": 120,
   "id": "6fb0de47",
   "metadata": {},
   "outputs": [
    {
     "name": "stdout",
     "output_type": "stream",
     "text": [
      "1\n",
      "3\n",
      "6\n",
      "10\n",
      "15\n",
      "21\n",
      "28\n",
      "36\n",
      "45\n",
      "55\n"
     ]
    }
   ],
   "source": [
    "#计算1+2+3+......+10的和\n",
    "sum=0                                        #定义一个sum变量，整数类型，保存\n",
    "for item in range(1,11):\n",
    "    sum=sum+item\n",
    "    print(sum)"
   ]
  },
  {
   "cell_type": "code",
   "execution_count": 121,
   "id": "c7df3363",
   "metadata": {},
   "outputs": [
    {
     "name": "stdout",
     "output_type": "stream",
     "text": [
      "请输入第1个数1\n",
      "输入的5个数是[1]\n",
      "请输入第2个数2\n",
      "输入的5个数是[1, 2]\n",
      "请输入第3个数4\n",
      "输入的5个数是[1, 2, 4]\n",
      "请输入第4个数6\n",
      "输入的5个数是[1, 2, 4, 6]\n",
      "请输入第5个数9\n",
      "输入的5个数是[1, 2, 4, 6, 9]\n"
     ]
    }
   ],
   "source": [
    "#提示用户输入5个数，组成一个列表\n",
    "l=[]\n",
    "for i in range(5):\n",
    "    num=input(f'请输入第{i+1}个数')\n",
    "    num=int(num)\n",
    "    l.append(num)\n",
    "    print(f'输入的5个数是{l}')"
   ]
  },
  {
   "cell_type": "code",
   "execution_count": 131,
   "id": "4739bd9f",
   "metadata": {},
   "outputs": [
    {
     "name": "stdout",
     "output_type": "stream",
     "text": [
      "满足条件的值有[]\n",
      "满足条件的值有[]\n",
      "满足条件的值有[]\n",
      "满足条件的值有[]\n",
      "满足条件的值有[]\n",
      "满足条件的值有[]\n",
      "满足条件的值有[7]\n",
      "满足条件的值有[7]\n",
      "满足条件的值有[7]\n",
      "满足条件的值有[7]\n",
      "满足条件的值有[7]\n",
      "满足条件的值有[7]\n",
      "满足条件的值有[7]\n",
      "满足条件的值有[7, 14]\n",
      "满足条件的值有[7, 14]\n",
      "满足条件的值有[7, 14]\n",
      "满足条件的值有[7, 14, 17]\n",
      "满足条件的值有[7, 14, 17]\n",
      "满足条件的值有[7, 14, 17]\n",
      "满足条件的值有[7, 14, 17]\n",
      "满足条件的值有[7, 14, 17, 21]\n",
      "满足条件的值有[7, 14, 17, 21]\n",
      "满足条件的值有[7, 14, 17, 21]\n",
      "满足条件的值有[7, 14, 17, 21]\n",
      "满足条件的值有[7, 14, 17, 21]\n",
      "满足条件的值有[7, 14, 17, 21]\n",
      "满足条件的值有[7, 14, 17, 21, 27]\n",
      "满足条件的值有[7, 14, 17, 21, 27, 28]\n",
      "满足条件的值有[7, 14, 17, 21, 27, 28]\n",
      "满足条件的值有[7, 14, 17, 21, 27, 28]\n",
      "满足条件的值有[7, 14, 17, 21, 27, 28]\n",
      "满足条件的值有[7, 14, 17, 21, 27, 28]\n",
      "满足条件的值有[7, 14, 17, 21, 27, 28]\n",
      "满足条件的值有[7, 14, 17, 21, 27, 28]\n",
      "满足条件的值有[7, 14, 17, 21, 27, 28, 35]\n",
      "满足条件的值有[7, 14, 17, 21, 27, 28, 35]\n",
      "满足条件的值有[7, 14, 17, 21, 27, 28, 35, 37]\n",
      "满足条件的值有[7, 14, 17, 21, 27, 28, 35, 37]\n",
      "满足条件的值有[7, 14, 17, 21, 27, 28, 35, 37]\n",
      "满足条件的值有[7, 14, 17, 21, 27, 28, 35, 37]\n",
      "满足条件的值有[7, 14, 17, 21, 27, 28, 35, 37]\n",
      "满足条件的值有[7, 14, 17, 21, 27, 28, 35, 37, 42]\n",
      "满足条件的值有[7, 14, 17, 21, 27, 28, 35, 37, 42]\n",
      "满足条件的值有[7, 14, 17, 21, 27, 28, 35, 37, 42]\n",
      "满足条件的值有[7, 14, 17, 21, 27, 28, 35, 37, 42]\n",
      "满足条件的值有[7, 14, 17, 21, 27, 28, 35, 37, 42]\n",
      "满足条件的值有[7, 14, 17, 21, 27, 28, 35, 37, 42, 47]\n",
      "满足条件的值有[7, 14, 17, 21, 27, 28, 35, 37, 42, 47]\n",
      "满足条件的值有[7, 14, 17, 21, 27, 28, 35, 37, 42, 47, 49]\n",
      "满足条件的值有[7, 14, 17, 21, 27, 28, 35, 37, 42, 47, 49]\n",
      "满足条件的值有[7, 14, 17, 21, 27, 28, 35, 37, 42, 47, 49]\n",
      "满足条件的值有[7, 14, 17, 21, 27, 28, 35, 37, 42, 47, 49]\n",
      "满足条件的值有[7, 14, 17, 21, 27, 28, 35, 37, 42, 47, 49]\n",
      "满足条件的值有[7, 14, 17, 21, 27, 28, 35, 37, 42, 47, 49]\n",
      "满足条件的值有[7, 14, 17, 21, 27, 28, 35, 37, 42, 47, 49]\n",
      "满足条件的值有[7, 14, 17, 21, 27, 28, 35, 37, 42, 47, 49, 56]\n",
      "满足条件的值有[7, 14, 17, 21, 27, 28, 35, 37, 42, 47, 49, 56, 57]\n",
      "满足条件的值有[7, 14, 17, 21, 27, 28, 35, 37, 42, 47, 49, 56, 57]\n",
      "满足条件的值有[7, 14, 17, 21, 27, 28, 35, 37, 42, 47, 49, 56, 57]\n",
      "满足条件的值有[7, 14, 17, 21, 27, 28, 35, 37, 42, 47, 49, 56, 57]\n",
      "满足条件的值有[7, 14, 17, 21, 27, 28, 35, 37, 42, 47, 49, 56, 57]\n",
      "满足条件的值有[7, 14, 17, 21, 27, 28, 35, 37, 42, 47, 49, 56, 57]\n",
      "满足条件的值有[7, 14, 17, 21, 27, 28, 35, 37, 42, 47, 49, 56, 57, 63]\n",
      "满足条件的值有[7, 14, 17, 21, 27, 28, 35, 37, 42, 47, 49, 56, 57, 63]\n",
      "满足条件的值有[7, 14, 17, 21, 27, 28, 35, 37, 42, 47, 49, 56, 57, 63]\n",
      "满足条件的值有[7, 14, 17, 21, 27, 28, 35, 37, 42, 47, 49, 56, 57, 63]\n",
      "满足条件的值有[7, 14, 17, 21, 27, 28, 35, 37, 42, 47, 49, 56, 57, 63, 67]\n",
      "满足条件的值有[7, 14, 17, 21, 27, 28, 35, 37, 42, 47, 49, 56, 57, 63, 67]\n",
      "满足条件的值有[7, 14, 17, 21, 27, 28, 35, 37, 42, 47, 49, 56, 57, 63, 67]\n",
      "满足条件的值有[7, 14, 17, 21, 27, 28, 35, 37, 42, 47, 49, 56, 57, 63, 67, 70]\n",
      "满足条件的值有[7, 14, 17, 21, 27, 28, 35, 37, 42, 47, 49, 56, 57, 63, 67, 70]\n",
      "满足条件的值有[7, 14, 17, 21, 27, 28, 35, 37, 42, 47, 49, 56, 57, 63, 67, 70]\n",
      "满足条件的值有[7, 14, 17, 21, 27, 28, 35, 37, 42, 47, 49, 56, 57, 63, 67, 70]\n",
      "满足条件的值有[7, 14, 17, 21, 27, 28, 35, 37, 42, 47, 49, 56, 57, 63, 67, 70]\n",
      "满足条件的值有[7, 14, 17, 21, 27, 28, 35, 37, 42, 47, 49, 56, 57, 63, 67, 70]\n",
      "满足条件的值有[7, 14, 17, 21, 27, 28, 35, 37, 42, 47, 49, 56, 57, 63, 67, 70]\n",
      "满足条件的值有[7, 14, 17, 21, 27, 28, 35, 37, 42, 47, 49, 56, 57, 63, 67, 70, 77]\n",
      "满足条件的值有[7, 14, 17, 21, 27, 28, 35, 37, 42, 47, 49, 56, 57, 63, 67, 70, 77]\n",
      "满足条件的值有[7, 14, 17, 21, 27, 28, 35, 37, 42, 47, 49, 56, 57, 63, 67, 70, 77]\n",
      "满足条件的值有[7, 14, 17, 21, 27, 28, 35, 37, 42, 47, 49, 56, 57, 63, 67, 70, 77]\n",
      "满足条件的值有[7, 14, 17, 21, 27, 28, 35, 37, 42, 47, 49, 56, 57, 63, 67, 70, 77]\n",
      "满足条件的值有[7, 14, 17, 21, 27, 28, 35, 37, 42, 47, 49, 56, 57, 63, 67, 70, 77]\n",
      "满足条件的值有[7, 14, 17, 21, 27, 28, 35, 37, 42, 47, 49, 56, 57, 63, 67, 70, 77]\n",
      "满足条件的值有[7, 14, 17, 21, 27, 28, 35, 37, 42, 47, 49, 56, 57, 63, 67, 70, 77, 84]\n",
      "满足条件的值有[7, 14, 17, 21, 27, 28, 35, 37, 42, 47, 49, 56, 57, 63, 67, 70, 77, 84]\n",
      "满足条件的值有[7, 14, 17, 21, 27, 28, 35, 37, 42, 47, 49, 56, 57, 63, 67, 70, 77, 84]\n",
      "满足条件的值有[7, 14, 17, 21, 27, 28, 35, 37, 42, 47, 49, 56, 57, 63, 67, 70, 77, 84, 87]\n",
      "满足条件的值有[7, 14, 17, 21, 27, 28, 35, 37, 42, 47, 49, 56, 57, 63, 67, 70, 77, 84, 87]\n",
      "满足条件的值有[7, 14, 17, 21, 27, 28, 35, 37, 42, 47, 49, 56, 57, 63, 67, 70, 77, 84, 87]\n",
      "满足条件的值有[7, 14, 17, 21, 27, 28, 35, 37, 42, 47, 49, 56, 57, 63, 67, 70, 77, 84, 87]\n",
      "满足条件的值有[7, 14, 17, 21, 27, 28, 35, 37, 42, 47, 49, 56, 57, 63, 67, 70, 77, 84, 87, 91]\n",
      "满足条件的值有[7, 14, 17, 21, 27, 28, 35, 37, 42, 47, 49, 56, 57, 63, 67, 70, 77, 84, 87, 91]\n",
      "满足条件的值有[7, 14, 17, 21, 27, 28, 35, 37, 42, 47, 49, 56, 57, 63, 67, 70, 77, 84, 87, 91]\n",
      "满足条件的值有[7, 14, 17, 21, 27, 28, 35, 37, 42, 47, 49, 56, 57, 63, 67, 70, 77, 84, 87, 91]\n",
      "满足条件的值有[7, 14, 17, 21, 27, 28, 35, 37, 42, 47, 49, 56, 57, 63, 67, 70, 77, 84, 87, 91]\n",
      "满足条件的值有[7, 14, 17, 21, 27, 28, 35, 37, 42, 47, 49, 56, 57, 63, 67, 70, 77, 84, 87, 91]\n",
      "满足条件的值有[7, 14, 17, 21, 27, 28, 35, 37, 42, 47, 49, 56, 57, 63, 67, 70, 77, 84, 87, 91, 97]\n",
      "满足条件的值有[7, 14, 17, 21, 27, 28, 35, 37, 42, 47, 49, 56, 57, 63, 67, 70, 77, 84, 87, 91, 97, 98]\n",
      "满足条件的值有[7, 14, 17, 21, 27, 28, 35, 37, 42, 47, 49, 56, 57, 63, 67, 70, 77, 84, 87, 91, 97, 98]\n"
     ]
    }
   ],
   "source": [
    "#找出100以内的所有7的倍数以及个位包含7的数，将他们放在一个列表中\n",
    "l=[]\n",
    "for i in range(1,100):\n",
    "    a=i//10\n",
    "    b=i%10\n",
    "    if i%7==0 or (a!=0 and b==7):\n",
    "        l.append(i)\n",
    "    print(f'满足条件的值有{l}')"
   ]
  },
  {
   "cell_type": "code",
   "execution_count": 132,
   "id": "dd7a75a8",
   "metadata": {},
   "outputs": [
    {
     "name": "stdout",
     "output_type": "stream",
     "text": [
      "hello\n",
      "hello\n"
     ]
    }
   ],
   "source": [
    "for i in range(5):\n",
    "    if i%2==0:\n",
    "        continue                 #理论上应该3次，从0开始，但是直接跳过0，所以两次\n",
    "    print('hello')"
   ]
  },
  {
   "cell_type": "code",
   "execution_count": 134,
   "id": "056f4404",
   "metadata": {},
   "outputs": [
    {
     "name": "stdout",
     "output_type": "stream",
     "text": [
      "[2, 4, 6, 8]\n"
     ]
    }
   ],
   "source": [
    "l1=[i*2 for i in range(1,5)]\n",
    "print(l1)"
   ]
  },
  {
   "cell_type": "code",
   "execution_count": 136,
   "id": "393afb6a",
   "metadata": {},
   "outputs": [
    {
     "name": "stdout",
     "output_type": "stream",
     "text": [
      "asp\n"
     ]
    }
   ],
   "source": [
    "#获取['apple','sun','parents']中每个元素的首字母，并将这三个首字母组成新字符\n",
    "l=['apple','sun','parents']          \n",
    "r1=[i[0] for i in l]                       #表达式                \n",
    "s=''.join(r1)                               #字符拼接\n",
    "print(s)"
   ]
  },
  {
   "cell_type": "code",
   "execution_count": 137,
   "id": "0faaa05e",
   "metadata": {},
   "outputs": [
    {
     "name": "stdout",
     "output_type": "stream",
     "text": [
      "[2, 4]\n"
     ]
    }
   ],
   "source": [
    "#找出同时出现在L1和L2中元素\n",
    "l1=[2,4,6,8]\n",
    "l2=[2,4]\n",
    "r1=[i for i in l1 if i in l2]\n",
    "print(r1)"
   ]
  },
  {
   "cell_type": "code",
   "execution_count": 139,
   "id": "65a3b971",
   "metadata": {},
   "outputs": [
    {
     "name": "stdout",
     "output_type": "stream",
     "text": [
      "[1, 2, 3]\n",
      "1\n",
      "[1]\n",
      "2\n",
      "[1, 2]\n",
      "3\n",
      "[1, 2, 3]\n",
      "[4, 5, 6]\n",
      "4\n",
      "[1, 2, 3, 4]\n",
      "5\n",
      "[1, 2, 3, 4, 5]\n",
      "6\n",
      "[1, 2, 3, 4, 5, 6]\n",
      "[7, 8, 9]\n",
      "7\n",
      "[1, 2, 3, 4, 5, 6, 7]\n",
      "8\n",
      "[1, 2, 3, 4, 5, 6, 7, 8]\n",
      "9\n",
      "[1, 2, 3, 4, 5, 6, 7, 8, 9]\n"
     ]
    }
   ],
   "source": [
    "#将子列表元素添加到主列表\n",
    "l=[[1,2,3],[4,5,6],[7,8,9]]\n",
    "L=[]\n",
    "for i in l:\n",
    "    print(i)\n",
    "    for j in i:\n",
    "        print(j)\n",
    "        L.append(j)\n",
    "        print(L)"
   ]
  },
  {
   "cell_type": "code",
   "execution_count": 140,
   "id": "e7fe91ff",
   "metadata": {},
   "outputs": [
    {
     "name": "stdout",
     "output_type": "stream",
     "text": [
      "i=0,j=0\n",
      "i=0,j=1\n",
      "i=0,j=2\n",
      "i=0,j=3\n",
      "i=0,j=4\n",
      "i=1,j=0\n",
      "i=1,j=1\n",
      "i=1,j=2\n",
      "i=1,j=3\n",
      "i=1,j=4\n",
      "i=2,j=0\n",
      "i=2,j=1\n",
      "i=2,j=2\n",
      "i=2,j=3\n",
      "i=2,j=4\n"
     ]
    }
   ],
   "source": [
    "for i in range(3):\n",
    "    for j in range(5):\n",
    "        print(f'i={i},j={j}')"
   ]
  },
  {
   "cell_type": "code",
   "execution_count": 153,
   "id": "1ff48591",
   "metadata": {},
   "outputs": [
    {
     "name": "stdout",
     "output_type": "stream",
     "text": [
      "153是水仙花数\n",
      "370是水仙花数\n",
      "371是水仙花数\n",
      "407是水仙花数\n"
     ]
    }
   ],
   "source": [
    "#找出100-1000内最小的水仙花数，水仙花数是指每位上的数字的3次幂之和等于它本身，比如407=4^3+7^3+0^3\n",
    "for i in range(100,1000):\n",
    "    a=i%10\n",
    "    b=i//10%10\n",
    "    c=i//100%10\n",
    "    if a**3+b**3+c**3==i:\n",
    "        print(f'{i}是水仙花数')"
   ]
  },
  {
   "cell_type": "code",
   "execution_count": 164,
   "id": "791491e0",
   "metadata": {},
   "outputs": [],
   "source": [
    "#找出100以内的所有质数（质数大于1，并且只能被1和它本身整除）\n",
    "l=[]\n",
    "for i in range(2,100):\n",
    "    is_prime=True                   #假设成立\n",
    "    for j in range(2,i):\n",
    "        if i%j==0:\n",
    "            is_prime=False\n",
    "            break\n",
    "        if is_prime:\n",
    "            l.append(i)             #此处不运行，数据庞大，而且重复\n",
    "            "
   ]
  },
  {
   "cell_type": "markdown",
   "id": "fe0e9fc4",
   "metadata": {},
   "source": [
    "### while循环语句\n",
    "    for可以控制循环次数，while不知道循环次数但知道循环条件\n",
    "    \n",
    "    while 条件表达式：\n",
    "              \n",
    "               循环体......            #表达式为true时执行循环体，false循环体结束"
   ]
  },
  {
   "cell_type": "code",
   "execution_count": 133,
   "id": "8303de7f",
   "metadata": {},
   "outputs": [
    {
     "name": "stdout",
     "output_type": "stream",
     "text": [
      "python\n",
      "python\n",
      "python\n"
     ]
    }
   ],
   "source": [
    "i=0\n",
    "while i<3:\n",
    "     print('python')\n",
    "     i+=1"
   ]
  },
  {
   "cell_type": "markdown",
   "id": "5b6d2efe",
   "metadata": {},
   "source": [
    "###函数语句\n",
    "\n",
    "          def 函数名()：   \n",
    "                  函数体\n",
    "          函数名()                     #调用函数\n",
    "          \n",
    "          def 函数名（参数）：             #传递参数，定义一个参数，要用到这个参数，（）可以写也可以不写，不知道传递多少参数*args\n",
    "                                    **kwargs是键值对，字典格式\n",
    "                   函数体\n",
    "                   \n",
    "                   return              结果与打印结果无关，与return结果有关\n",
    "                                    返回值可以多个"
   ]
  },
  {
   "cell_type": "code",
   "execution_count": 177,
   "id": "7cb5d5c0",
   "metadata": {},
   "outputs": [
    {
     "data": {
      "text/plain": [
       "8"
      ]
     },
     "execution_count": 177,
     "metadata": {},
     "output_type": "execute_result"
    }
   ],
   "source": [
    "def add_ab(a,b):\n",
    "    return(a+b)\n",
    "    print('345')                         # print 结果无用\n",
    "guo=add_ab(3,5)\n",
    "guo"
   ]
  },
  {
   "cell_type": "code",
   "execution_count": 180,
   "id": "079b66a1",
   "metadata": {},
   "outputs": [
    {
     "data": {
      "text/plain": [
       "10"
      ]
     },
     "execution_count": 180,
     "metadata": {},
     "output_type": "execute_result"
    }
   ],
   "source": [
    "def add_number(a,*args):\n",
    "    for i in args:\n",
    "        a+=i\n",
    "    return a                        #结果出现3，因为将return放到for 里面了，直接弹出3的值\n",
    "add_number(1,2,3,4)"
   ]
  },
  {
   "cell_type": "code",
   "execution_count": 186,
   "id": "2792a675",
   "metadata": {},
   "outputs": [
    {
     "name": "stdout",
     "output_type": "stream",
     "text": [
      "x 2\n",
      "y 3\n"
     ]
    }
   ],
   "source": [
    "def add_number2(a,**kwargs):\n",
    "    for arg,value in kwargs.items():      #**kwargs是键值对的多参数，挨个显示kwargs.items，变量名是arg，vlue用,隔开，items是键值对整体意思\n",
    "        print (arg,value)\n",
    "add_number2(1,x=2,y=3)"
   ]
  },
  {
   "cell_type": "code",
   "execution_count": 191,
   "id": "83546dd0",
   "metadata": {},
   "outputs": [
    {
     "data": {
      "text/plain": [
       "(6, 9)"
      ]
     },
     "execution_count": 191,
     "metadata": {},
     "output_type": "execute_result"
    }
   ],
   "source": [
    "def add_number(a,*args):\n",
    "    b=0\n",
    "    for i in args:\n",
    "        a+=i\n",
    "        b+=a \n",
    "    return(a,b)\n",
    "add_number(1,2,3)        "
   ]
  },
  {
   "cell_type": "markdown",
   "id": "c80e61e9",
   "metadata": {},
   "source": [
    "# 9模块与包"
   ]
  },
  {
   "cell_type": "markdown",
   "id": "f9c45b67",
   "metadata": {},
   "source": [
    "提前写一个脚本文件，用的时候调用\n",
    "    \n",
    "    %%writefile 文件名.py             后面不能加#作注释，这是写一个文件名的意思  %%不是作注解而是写文件名\n",
    "\n",
    "     %run 文件名.py                  运行\n",
    "     \n",
    "     import 文件名                  导入文件，第二次导入不会执行 ,变量名后不要加py \n",
    "     \n",
    "     import 文件名 as 别名            变量名比较长，用别名代替\n",
    "     \n",
    "     from 文件名 import 变量1，变量2     不用每次用文件名.变量名，直接文件变量名2即可以使用\n",
    "     \n",
    "     from 文件名 import *            导入文件多，都想用\n",
    "     \n",
    "     import os\n",
    "     os.remove(’文件名.py')            导入操作系统，然后删除脚本文件，必须加引号"
   ]
  },
  {
   "cell_type": "code",
   "execution_count": 226,
   "id": "d1b00a49",
   "metadata": {},
   "outputs": [
    {
     "name": "stdout",
     "output_type": "stream",
     "text": [
      "Writing meng.py\n"
     ]
    }
   ],
   "source": [
    "%%writefile meng.py\n",
    "tang_v=10\n",
    "\n",
    "def tang_add(tang_list):\n",
    "    tang_sum=0\n",
    "    for i in range(len(tang_list)):\n",
    "        tang_sum +=tang_list[i]\n",
    "    return tang_sum\n",
    "tang_list=[1,2,3,4,5]\n",
    "print(tang_add(tang_list))"
   ]
  },
  {
   "cell_type": "code",
   "execution_count": 227,
   "id": "30edc0da",
   "metadata": {},
   "outputs": [
    {
     "name": "stdout",
     "output_type": "stream",
     "text": [
      "15\n"
     ]
    }
   ],
   "source": [
    "%run meng.py"
   ]
  },
  {
   "cell_type": "code",
   "execution_count": 233,
   "id": "64cf5cac",
   "metadata": {},
   "outputs": [],
   "source": [
    "import meng"
   ]
  },
  {
   "cell_type": "code",
   "execution_count": 234,
   "id": "5a85cebb",
   "metadata": {},
   "outputs": [
    {
     "data": {
      "text/plain": [
       "<module 'meng' from 'C:\\\\Users\\\\123\\\\Desktop\\\\jupyter\\\\meng.py'>"
      ]
     },
     "execution_count": 234,
     "metadata": {},
     "output_type": "execute_result"
    }
   ],
   "source": [
    "meng"
   ]
  },
  {
   "cell_type": "code",
   "execution_count": 235,
   "id": "41d8d23d",
   "metadata": {},
   "outputs": [
    {
     "name": "stdout",
     "output_type": "stream",
     "text": [
      "10\n"
     ]
    }
   ],
   "source": [
    "print(meng.tang_v)              #之前定义变量现在可以用，也可以对该变量重新赋值"
   ]
  },
  {
   "cell_type": "code",
   "execution_count": 237,
   "id": "48d44490",
   "metadata": {},
   "outputs": [
    {
     "data": {
      "text/plain": [
       "25"
      ]
     },
     "execution_count": 237,
     "metadata": {},
     "output_type": "execute_result"
    }
   ],
   "source": [
    "tang_list=[1,4,5,7,8]          #构造新的数组\n",
    "meng.tang_add(tang_list)       #要用meng的文件内tang.add函数"
   ]
  },
  {
   "cell_type": "code",
   "execution_count": 238,
   "id": "6ac1ef54",
   "metadata": {},
   "outputs": [
    {
     "data": {
      "text/plain": [
       "10"
      ]
     },
     "execution_count": 238,
     "metadata": {},
     "output_type": "execute_result"
    }
   ],
   "source": [
    "import meng as m              #别名代替\n",
    "m.tang_v                       "
   ]
  },
  {
   "cell_type": "code",
   "execution_count": 239,
   "id": "ec366bc3",
   "metadata": {},
   "outputs": [],
   "source": [
    "import os\n",
    "os.remove('meng.py')        #删除脚本文件"
   ]
  },
  {
   "cell_type": "markdown",
   "id": "fc93a07b",
   "metadata": {},
   "source": [
    "# 10异常处理模块"
   ]
  },
  {
   "cell_type": "code",
   "execution_count": 240,
   "id": "0451b0e4",
   "metadata": {},
   "outputs": [
    {
     "name": "stdout",
     "output_type": "stream",
     "text": [
      "请输入一个数2\n",
      "0.6931471805599453\n",
      "请输入一个数0\n"
     ]
    },
    {
     "ename": "ValueError",
     "evalue": "math domain error",
     "output_type": "error",
     "traceback": [
      "\u001b[1;31m---------------------------------------------------------------------------\u001b[0m",
      "\u001b[1;31mValueError\u001b[0m                                Traceback (most recent call last)",
      "Cell \u001b[1;32mIn[240], line 7\u001b[0m\n\u001b[0;32m      5\u001b[0m \u001b[38;5;28;01mif\u001b[39;00m input_number\u001b[38;5;241m==\u001b[39m\u001b[38;5;124m'\u001b[39m\u001b[38;5;124mq\u001b[39m\u001b[38;5;124m'\u001b[39m:\n\u001b[0;32m      6\u001b[0m     \u001b[38;5;28;01mbreak\u001b[39;00m\n\u001b[1;32m----> 7\u001b[0m result\u001b[38;5;241m=\u001b[39mmath\u001b[38;5;241m.\u001b[39mlog(\u001b[38;5;28mfloat\u001b[39m(input_number))\n\u001b[0;32m      8\u001b[0m \u001b[38;5;28mprint\u001b[39m(result)\n",
      "\u001b[1;31mValueError\u001b[0m: math domain error"
     ]
    }
   ],
   "source": [
    "import math\n",
    "\n",
    "for i in range(14):\n",
    "    input_number=input('请输入一个数')\n",
    "    if input_number=='q':\n",
    "        break\n",
    "    result=math.log(float(input_number))\n",
    "    print(result)"
   ]
  },
  {
   "cell_type": "markdown",
   "id": "16c7231c",
   "metadata": {},
   "source": [
    "异常模块\n",
    "             \n",
    "         方法一try: \n",
    "             \n",
    "             except 报错名：                  #尝试一下，看是否报错，把错误捕捉到，并反馈信息，并知道为什么报错\n",
    "     \n",
    "               break                       出现异常直接跳出来也可以\n",
    "               \n",
    "             except 报错名2：\n",
    "                \n",
    "               break\n",
    "            \n",
    "            finally:\n",
    "                print('finally')              #最终结果一定关掉，不管掉复杂程序容易丢失\n",
    "                \n",
    "            \n",
    "            \n",
    "         方法二with open('文件名.类型','w') as 变量名:\n",
    "             变量名.write('jin tian tian qi bu cuo')        #不需要close，with方法自动完成try、except、finally，遇到问题直接关闭"
   ]
  },
  {
   "cell_type": "code",
   "execution_count": 241,
   "id": "88f3d593",
   "metadata": {},
   "outputs": [
    {
     "name": "stdout",
     "output_type": "stream",
     "text": [
      "请输入一个数0\n",
      "ValueError: input must>0\n",
      "请输入一个数2\n",
      "0.6931471805599453\n",
      "请输入一个数q\n"
     ]
    }
   ],
   "source": [
    "import math\n",
    "\n",
    "for i in range(14):\n",
    "    try:\n",
    "        input_number=input('请输入一个数')\n",
    "        if input_number=='q':                            #输入0会报错，通过try、except分开\n",
    "            break\n",
    "        result=math.log(float(input_number))\n",
    "        print(result)\n",
    "    except ValueError:\n",
    "        print('ValueError: input must>0')"
   ]
  },
  {
   "cell_type": "code",
   "execution_count": 243,
   "id": "a1f0fb95",
   "metadata": {},
   "outputs": [
    {
     "name": "stdout",
     "output_type": "stream",
     "text": [
      "请输入一个数1\n",
      "log(value)must!=0\n",
      "请输入一个数q\n"
     ]
    }
   ],
   "source": [
    "import math\n",
    "\n",
    "for i in range(14):\n",
    "    try:\n",
    "        input_number=input('请输入一个数')\n",
    "        if input_number=='q':\n",
    "            break\n",
    "        result=1/math.log(float(input_number))             #分母输入数字为1，也报错，分母为0，也会报错，不同异常想分开处理\n",
    "        print(result)\n",
    "    except ValueError:\n",
    "        print('ValueError: input must>0')\n",
    "    except ZeroDivisionError:\n",
    "        print('log(value)must!=0')"
   ]
  },
  {
   "cell_type": "code",
   "execution_count": 245,
   "id": "9abca13a",
   "metadata": {},
   "outputs": [
    {
     "name": "stdout",
     "output_type": "stream",
     "text": [
      "guo\n",
      "guo2\n"
     ]
    },
    {
     "ename": "guoError",
     "evalue": "Invalid input:guo2",
     "output_type": "error",
     "traceback": [
      "\u001b[1;31m---------------------------------------------------------------------------\u001b[0m",
      "\u001b[1;31mguoError\u001b[0m                                  Traceback (most recent call last)",
      "Cell \u001b[1;32mIn[245], line 7\u001b[0m\n\u001b[0;32m      5\u001b[0m cur_input\u001b[38;5;241m=\u001b[39m\u001b[38;5;28minput\u001b[39m()\n\u001b[0;32m      6\u001b[0m \u001b[38;5;28;01mif\u001b[39;00m cur_input \u001b[38;5;129;01mnot\u001b[39;00m \u001b[38;5;129;01min\u001b[39;00m cur_list:\n\u001b[1;32m----> 7\u001b[0m     \u001b[38;5;28;01mraise\u001b[39;00m guoError(\u001b[38;5;124m'\u001b[39m\u001b[38;5;124mInvalid input:\u001b[39m\u001b[38;5;132;01m%s\u001b[39;00m\u001b[38;5;124m'\u001b[39m\u001b[38;5;241m%\u001b[39mcur_input)\n",
      "\u001b[1;31mguoError\u001b[0m: Invalid input:guo2"
     ]
    }
   ],
   "source": [
    "class guoError(ValueError):                          #class 类，自己定义一种类型错误\n",
    "    pass\n",
    "cur_list=['guo','zi','meng']\n",
    "while True:\n",
    "    cur_input=input()\n",
    "    if cur_input not in cur_list:\n",
    "        raise guoError('Invalid input:%s'%cur_input)        #raise抛出，发现异常不执行，提前终止掉       try捕捉"
   ]
  },
  {
   "cell_type": "code",
   "execution_count": 246,
   "id": "ffd494ce",
   "metadata": {},
   "outputs": [
    {
     "name": "stdout",
     "output_type": "stream",
     "text": [
      "hello\n",
      "finally\n"
     ]
    }
   ],
   "source": [
    "try:\n",
    "    print('hello')\n",
    "finally:                            #不管是否遇到异常，遇到异常执行finally语句\n",
    "    print('finally')"
   ]
  },
  {
   "cell_type": "code",
   "execution_count": 247,
   "id": "e1cb5a43",
   "metadata": {},
   "outputs": [
    {
     "name": "stdout",
     "output_type": "stream",
     "text": [
      "==0\n",
      "finally\n"
     ]
    }
   ],
   "source": [
    "try:\n",
    "    1/0\n",
    "except:\n",
    "    print('==0')                   #遇到异常，except与finally两个都执行\n",
    "finally:\n",
    "    print('finally')"
   ]
  },
  {
   "cell_type": "markdown",
   "id": "ab1b8220",
   "metadata": {},
   "source": [
    "# 11文件操作"
   ]
  },
  {
   "cell_type": "markdown",
   "id": "59737e69",
   "metadata": {},
   "source": [
    "\n",
    "        open（'文件名.类型')                打开文件\n",
    "        类型.close()                      关闭文件\n",
    "        \n",
    "        txt=open('文件名.txt','w')            写文件，w是write写的意思，固定格式,每执行一次w覆盖原内容，如果是a模式则是追加新内容\n",
    "        txt.write('内容')                       r是read阅读的意思\n",
    "        txt.close()\n",
    "        \n",
    "        txt2=open('文件名.txt','r')\n",
    "        print(txt2.read())        "
   ]
  },
  {
   "cell_type": "code",
   "execution_count": 248,
   "id": "ff1683ca",
   "metadata": {},
   "outputs": [
    {
     "name": "stdout",
     "output_type": "stream",
     "text": [
      "Writing guo.txt\n"
     ]
    }
   ],
   "source": [
    "%%writefile guo.txt\n",
    "hello python\n",
    "guo zi meng\n",
    "jin tian tian qi bu cuo"
   ]
  },
  {
   "cell_type": "code",
   "execution_count": 253,
   "id": "99b37942",
   "metadata": {},
   "outputs": [
    {
     "name": "stdout",
     "output_type": "stream",
     "text": [
      "hello python\n",
      "guo zi meng\n",
      "jin tian tian qi bu cuo\n",
      "\n"
     ]
    }
   ],
   "source": [
    "txt=open('guo.txt')\n",
    "txt_read=txt.read()                #txt.read（）文本阅读内容函数，txt_read文本阅读变量名\n",
    "print(txt_read)"
   ]
  },
  {
   "cell_type": "code",
   "execution_count": 256,
   "id": "000e83f4",
   "metadata": {},
   "outputs": [
    {
     "name": "stdout",
     "output_type": "stream",
     "text": [
      "['hello python\\n', 'guo zi meng\\n', 'jin tian tian qi bu cuo\\n']\n",
      "cur_line: hello python\n",
      "\n",
      "cur_line: guo zi meng\n",
      "\n",
      "cur_line: jin tian tian qi bu cuo\n",
      "\n"
     ]
    }
   ],
   "source": [
    "txt=open('guo.txt')\n",
    "lines=txt.readlines()          #一行一行读\n",
    "print(lines)\n",
    "\n",
    "for line in lines:            #遍历，不会出现分隔符\n",
    "    print('cur_line:',line)    #cur_line是字符串"
   ]
  },
  {
   "cell_type": "code",
   "execution_count": null,
   "id": "1f4d2147",
   "metadata": {},
   "outputs": [],
   "source": [
    "txt.close()"
   ]
  },
  {
   "cell_type": "code",
   "execution_count": 264,
   "id": "00017140",
   "metadata": {},
   "outputs": [],
   "source": [
    "txt=open('guo_write.txt','w')\n",
    "txt.write('今天天气不错')\n",
    "txt.write('\\n guo zi meng')       #这是写第二行，必须使用换行符，否则两行在一行\n",
    "txt.close()"
   ]
  },
  {
   "cell_type": "code",
   "execution_count": 266,
   "id": "bb37d308",
   "metadata": {},
   "outputs": [
    {
     "name": "stdout",
     "output_type": "stream",
     "text": [
      "今天天气不错\n",
      " guo zi meng0\n",
      "1\n",
      "2\n",
      "3\n",
      "4\n",
      "5\n",
      "6\n",
      "7\n",
      "8\n",
      "9\n",
      "\n"
     ]
    }
   ],
   "source": [
    "txt=open('guo_write.txt','a')\n",
    "for i in range(10):\n",
    "    txt.write(str(i)+'\\n')                #写上i，转换成字符串，然后加上换行符，逐个显示\n",
    "txt2=open('guo_write.txt','r')\n",
    "print(txt2.read())                        #不写read这个函数，txt就是open赋值这个变量"
   ]
  },
  {
   "cell_type": "code",
   "execution_count": 271,
   "id": "fb17ae95",
   "metadata": {},
   "outputs": [
    {
     "name": "stdout",
     "output_type": "stream",
     "text": [
      "error: 50\n"
     ]
    }
   ],
   "source": [
    "txt=open('guo_write','w')\n",
    "try:\n",
    "    for i in range(100):\n",
    "        10/(i-50)\n",
    "        txt.write(str(i)+'\\n')\n",
    "except Exception:\n",
    "    print('error:',i)\n",
    "finally:\n",
    "    txt.close()                               #最终结果一定关掉，不管掉复杂程序容易丢失，结果50说明50报错，即分母为0"
   ]
  },
  {
   "cell_type": "code",
   "execution_count": null,
   "id": "93eef418",
   "metadata": {},
   "outputs": [],
   "source": [
    "with open('guo_write.txt','w') as f:\n",
    "    f.write('jin tian tian qi bu cuo')        #不需要close，with方法自动完成try、except、finally，遇到问题直接关闭"
   ]
  },
  {
   "cell_type": "markdown",
   "id": "89b9759a",
   "metadata": {},
   "source": [
    "# 12类\n",
    "    \n",
    "    类：即面向对象编程，所有实例会共享的\n",
    "    \n",
    "    关键字class             class+类名：\n",
    "    \n",
    "    init 构造函数，初始化方法\n",
    "    self 必须指定的一个额外参数名字，命名习惯，相当于this\n",
    "    \n",
    "    类名._ _doc_ _                     #帮助文档，两个_是拼接一起的\n",
    "    类名._ _name_ _                     #类的名字\n",
    "    类名._ _moudule_ _                   #类定义所在模块\n",
    "    类名._ _bases_ _                    #父类\n",
    "    类名._ _dic_ _                     #类由字典组成\n",
    "\n",
    "###属性操作 attr\n",
    "    \n",
    "    hasattr  判断是否有属性\n",
    "    getattr  获取属性\n",
    "    setattr  更改属性\n",
    "    delattr 删除属性"
   ]
  },
  {
   "cell_type": "code",
   "execution_count": 277,
   "id": "438bb939",
   "metadata": {},
   "outputs": [],
   "source": [
    "class people:                                         #构建一个people的类\n",
    "    '帮助信息：XXXXXX'\n",
    "    #所有实例都会共享的\n",
    "    number=100                          #有个数值，比如血条，小兵的血条\n",
    "    def __init__(self,name,age):       #构造函数，init初始化的方法，每个小兵指定名字，年龄，2个变量，当创建一个类的时候，首先会调用初始函数\n",
    "        self.name=name                 #初始化赋值\n",
    "    def display(self):           \n",
    "        print('number=:',people.number)       #mumber为变量,是people内部的，需要额外的people定义出来\n",
    "    def display_name(self):           \n",
    "        print(self.name)"
   ]
  },
  {
   "cell_type": "code",
   "execution_count": 278,
   "id": "246dfa8e",
   "metadata": {},
   "outputs": [
    {
     "data": {
      "text/plain": [
       "'帮助信息：XXXXXX'"
      ]
     },
     "execution_count": 278,
     "metadata": {},
     "output_type": "execute_result"
    }
   ],
   "source": [
    "people.__doc__                      "
   ]
  },
  {
   "cell_type": "code",
   "execution_count": 279,
   "id": "51fefae7",
   "metadata": {},
   "outputs": [],
   "source": [
    "p1=people('guozimeng',22)\n",
    "p2=people('chenpeng',24)"
   ]
  },
  {
   "cell_type": "code",
   "execution_count": 280,
   "id": "a8c67c0b",
   "metadata": {},
   "outputs": [
    {
     "data": {
      "text/plain": [
       "'guozimeng'"
      ]
     },
     "execution_count": 280,
     "metadata": {},
     "output_type": "execute_result"
    }
   ],
   "source": [
    "p1.name"
   ]
  },
  {
   "cell_type": "code",
   "execution_count": 281,
   "id": "0251ab10",
   "metadata": {},
   "outputs": [
    {
     "name": "stdout",
     "output_type": "stream",
     "text": [
      "number=: 100\n"
     ]
    }
   ],
   "source": [
    "p1.display()"
   ]
  },
  {
   "cell_type": "code",
   "execution_count": 283,
   "id": "9045a479",
   "metadata": {},
   "outputs": [
    {
     "ename": "AttributeError",
     "evalue": "'people' object has no attribute 'name'",
     "output_type": "error",
     "traceback": [
      "\u001b[1;31m---------------------------------------------------------------------------\u001b[0m",
      "\u001b[1;31mAttributeError\u001b[0m                            Traceback (most recent call last)",
      "Cell \u001b[1;32mIn[283], line 1\u001b[0m\n\u001b[1;32m----> 1\u001b[0m \u001b[38;5;28;01mdel\u001b[39;00m p2\u001b[38;5;241m.\u001b[39mname       \u001b[38;5;66;03m#可以删除\u001b[39;00m\n\u001b[0;32m      2\u001b[0m p2\u001b[38;5;241m.\u001b[39mname\n",
      "\u001b[1;31mAttributeError\u001b[0m: 'people' object has no attribute 'name'"
     ]
    }
   ],
   "source": [
    "del p2.name       #可以删除\n",
    "p2.name"
   ]
  },
  {
   "cell_type": "code",
   "execution_count": 284,
   "id": "0aa46f74",
   "metadata": {},
   "outputs": [
    {
     "data": {
      "text/plain": [
       "True"
      ]
     },
     "execution_count": 284,
     "metadata": {},
     "output_type": "execute_result"
    }
   ],
   "source": [
    "hasattr(p1,'name')       #判断p1是否有name"
   ]
  },
  {
   "cell_type": "code",
   "execution_count": 285,
   "id": "2169f0dc",
   "metadata": {},
   "outputs": [
    {
     "data": {
      "text/plain": [
       "False"
      ]
     },
     "execution_count": 285,
     "metadata": {},
     "output_type": "execute_result"
    }
   ],
   "source": [
    "hasattr(p1,'sex')"
   ]
  },
  {
   "cell_type": "code",
   "execution_count": 286,
   "id": "5630edc3",
   "metadata": {},
   "outputs": [
    {
     "data": {
      "text/plain": [
       "'guozimeng'"
      ]
     },
     "execution_count": 286,
     "metadata": {},
     "output_type": "execute_result"
    }
   ],
   "source": [
    "getattr(p1,'name')"
   ]
  },
  {
   "cell_type": "code",
   "execution_count": 288,
   "id": "07b497c8",
   "metadata": {},
   "outputs": [],
   "source": [
    "setattr(p1,'name','han de cheng')    #把名字改成别的"
   ]
  },
  {
   "cell_type": "code",
   "execution_count": 289,
   "id": "925e9c5c",
   "metadata": {},
   "outputs": [
    {
     "data": {
      "text/plain": [
       "'han de cheng'"
      ]
     },
     "execution_count": 289,
     "metadata": {},
     "output_type": "execute_result"
    }
   ],
   "source": [
    "p1.name"
   ]
  },
  {
   "cell_type": "code",
   "execution_count": 290,
   "id": "0b12547c",
   "metadata": {},
   "outputs": [
    {
     "ename": "AttributeError",
     "evalue": "'people' object has no attribute 'name'",
     "output_type": "error",
     "traceback": [
      "\u001b[1;31m---------------------------------------------------------------------------\u001b[0m",
      "\u001b[1;31mAttributeError\u001b[0m                            Traceback (most recent call last)",
      "Cell \u001b[1;32mIn[290], line 2\u001b[0m\n\u001b[0;32m      1\u001b[0m \u001b[38;5;28mdelattr\u001b[39m(p1,\u001b[38;5;124m'\u001b[39m\u001b[38;5;124mname\u001b[39m\u001b[38;5;124m'\u001b[39m)\n\u001b[1;32m----> 2\u001b[0m \u001b[38;5;28mgetattr\u001b[39m(p1,\u001b[38;5;124m'\u001b[39m\u001b[38;5;124mname\u001b[39m\u001b[38;5;124m'\u001b[39m)\n",
      "\u001b[1;31mAttributeError\u001b[0m: 'people' object has no attribute 'name'"
     ]
    }
   ],
   "source": [
    "delattr(p1,'name')\n",
    "getattr(p1,'name')"
   ]
  },
  {
   "cell_type": "markdown",
   "id": "3e0a97da",
   "metadata": {},
   "source": [
    "###父类\n",
    "  定义一条狗，能爬能吃，其他动物也能，所以先定义一个能爬能吃，狗也能能爬能吃，狗继承animal属性，不用重复写 \n",
    "  \n",
    "  父类的属性子类不适用，子类属性重新定义，写成什么样子，指定什么样子"
   ]
  },
  {
   "cell_type": "code",
   "execution_count": 302,
   "id": "38bb736a",
   "metadata": {},
   "outputs": [],
   "source": [
    "class parent:\n",
    "    number=100\n",
    "    def __init__(self):\n",
    "        print('调用父类构造函数')\n",
    "    def parentM(self):\n",
    "         print('调用父类方法')\n",
    "    def setattr(set,attr):                                  #set与attr中间用\",''分开，不分开下面报错\n",
    "        parent.parentattr=attr\n",
    "    def getattr(self):\n",
    "        print('父类属性：',parent.parentattr)\n",
    "class child(parent):\n",
    "    def __init__(self):\n",
    "        print('调用子类构造函数')\n",
    "    def childM(self):\n",
    "        print('调用子类方法')"
   ]
  },
  {
   "cell_type": "code",
   "execution_count": 303,
   "id": "071ea7ea",
   "metadata": {},
   "outputs": [
    {
     "name": "stdout",
     "output_type": "stream",
     "text": [
      "调用子类构造函数\n",
      "调用子类方法\n",
      "调用父类方法\n",
      "父类属性： 100\n"
     ]
    }
   ],
   "source": [
    "c=child()\n",
    "c.childM()\n",
    "c.parentM()\n",
    "c.setattr(100)\n",
    "c.getattr()"
   ]
  },
  {
   "cell_type": "code",
   "execution_count": 312,
   "id": "0504a81b",
   "metadata": {},
   "outputs": [],
   "source": [
    "class parent:\n",
    "    number=100\n",
    "    def __init__(self):\n",
    "        print('调用父类构造函数')\n",
    "    def parentM(self):\n",
    "         print('调用父类方法')\n",
    "    def setattr(set,attr):                                  #set与attr中间用\",''分开，不分开下面报错\n",
    "        parent.parentattr=attr\n",
    "    def getattr(self):\n",
    "        print('父类属性：',parent.parentattr)\n",
    "    def newM(self):\n",
    "        print('父类要被重新的方法')\n",
    "class child(parent):\n",
    "    def __init__(self):\n",
    "        print('调用子类构造函数')\n",
    "    def childM(self):\n",
    "        print('调用子类方法')\n",
    "    def newM(self):\n",
    "        print('子类把它改掉了')"
   ]
  },
  {
   "cell_type": "markdown",
   "id": "746348ef",
   "metadata": {},
   "source": [
    "# 13时间"
   ]
  },
  {
   "cell_type": "code",
   "execution_count": 316,
   "id": "ad9f2984",
   "metadata": {},
   "outputs": [
    {
     "name": "stdout",
     "output_type": "stream",
     "text": [
      "1704010229.680804\n"
     ]
    }
   ],
   "source": [
    "import time\n",
    "print(time.time())                #时间缀：从1970年1月1日经过了多长时间，直接用没用，可以用差异值"
   ]
  },
  {
   "cell_type": "code",
   "execution_count": 321,
   "id": "b3576916",
   "metadata": {},
   "outputs": [
    {
     "name": "stdout",
     "output_type": "stream",
     "text": [
      "time.struct_time(tm_year=2023, tm_mon=12, tm_mday=31, tm_hour=16, tm_min=13, tm_sec=44, tm_wday=6, tm_yday=365, tm_isdst=0)\n"
     ]
    }
   ],
   "source": [
    "print(time.localtime(time.time()))         #把时间缀换算"
   ]
  },
  {
   "cell_type": "code",
   "execution_count": 322,
   "id": "c1c7e218",
   "metadata": {},
   "outputs": [
    {
     "name": "stdout",
     "output_type": "stream",
     "text": [
      "Sun Dec 31 16:15:58 2023\n"
     ]
    }
   ],
   "source": [
    "print(time.asctime(time.localtime(time.time())))           #画图利用时间，各种类型数据转换成熟悉数据"
   ]
  },
  {
   "cell_type": "code",
   "execution_count": 323,
   "id": "bf41f6be",
   "metadata": {},
   "outputs": [
    {
     "name": "stdout",
     "output_type": "stream",
     "text": [
      "2023-12-31 16:18:10\n"
     ]
    }
   ],
   "source": [
    "print(time.strftime('%Y-%m-%d %H:%M:%S',time.localtime()))          #注意大小写，否则容易报错"
   ]
  },
  {
   "cell_type": "code",
   "execution_count": 326,
   "id": "e96413d2",
   "metadata": {},
   "outputs": [
    {
     "name": "stdout",
     "output_type": "stream",
     "text": [
      "    January 2024\n",
      "Mo Tu We Th Fr Sa Su\n",
      " 1  2  3  4  5  6  7\n",
      " 8  9 10 11 12 13 14\n",
      "15 16 17 18 19 20 21\n",
      "22 23 24 25 26 27 28\n",
      "29 30 31\n",
      "\n"
     ]
    }
   ],
   "source": [
    "import calendar                              #日历模块导入\n",
    "print(calendar.month(2024,1))                 #注意,分隔开"
   ]
  },
  {
   "cell_type": "code",
   "execution_count": 328,
   "id": "ef208781",
   "metadata": {},
   "outputs": [
    {
     "name": "stdout",
     "output_type": "stream",
     "text": [
      "Help on method formatmonth in module calendar:\n",
      "\n",
      "formatmonth(theyear, themonth, w=0, l=0) method of calendar.TextCalendar instance\n",
      "    Return a month's calendar string (multi-line).\n",
      "\n"
     ]
    }
   ],
   "source": [
    "help(calendar.month)              #函数不会用，可以通过help来帮助"
   ]
  }
 ],
 "metadata": {
  "kernelspec": {
   "display_name": "Python 3 (ipykernel)",
   "language": "python",
   "name": "python3"
  },
  "language_info": {
   "codemirror_mode": {
    "name": "ipython",
    "version": 3
   },
   "file_extension": ".py",
   "mimetype": "text/x-python",
   "name": "python",
   "nbconvert_exporter": "python",
   "pygments_lexer": "ipython3",
   "version": "3.11.5"
  }
 },
 "nbformat": 4,
 "nbformat_minor": 5
}
